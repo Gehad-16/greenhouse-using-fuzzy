{
  "nbformat": 4,
  "nbformat_minor": 0,
  "metadata": {
    "colab": {
      "name": "final_greenhouse.ipynb",
      "provenance": [],
      "collapsed_sections": [],
      "toc_visible": true
    },
    "kernelspec": {
      "name": "python3",
      "display_name": "Python 3"
    },
    "language_info": {
      "name": "python"
    }
  },
  "cells": [
    {
      "cell_type": "code",
      "metadata": {
        "colab": {
          "base_uri": "https://localhost:8080/"
        },
        "id": "Wuqmi5otrrwW",
        "outputId": "10ccf195-e69b-4c66-cf64-5ddd26c750e7"
      },
      "source": [
        "!pip install -U scikit-fuzzy"
      ],
      "execution_count": null,
      "outputs": [
        {
          "output_type": "stream",
          "text": [
            "Collecting scikit-fuzzy\n",
            "\u001b[?25l  Downloading https://files.pythonhosted.org/packages/6c/f0/5eb5dbe0fd8dfe7d4651a8f4e591a196623a22b9e5339101e559695b4f6c/scikit-fuzzy-0.4.2.tar.gz (993kB)\n",
            "\r\u001b[K     |▎                               | 10kB 12.6MB/s eta 0:00:01\r\u001b[K     |▋                               | 20kB 15.7MB/s eta 0:00:01\r\u001b[K     |█                               | 30kB 10.5MB/s eta 0:00:01\r\u001b[K     |█▎                              | 40kB 9.1MB/s eta 0:00:01\r\u001b[K     |█▋                              | 51kB 5.3MB/s eta 0:00:01\r\u001b[K     |██                              | 61kB 5.2MB/s eta 0:00:01\r\u001b[K     |██▎                             | 71kB 5.7MB/s eta 0:00:01\r\u001b[K     |██▋                             | 81kB 6.1MB/s eta 0:00:01\r\u001b[K     |███                             | 92kB 6.1MB/s eta 0:00:01\r\u001b[K     |███▎                            | 102kB 5.1MB/s eta 0:00:01\r\u001b[K     |███▋                            | 112kB 5.1MB/s eta 0:00:01\r\u001b[K     |████                            | 122kB 5.1MB/s eta 0:00:01\r\u001b[K     |████▎                           | 133kB 5.1MB/s eta 0:00:01\r\u001b[K     |████▋                           | 143kB 5.1MB/s eta 0:00:01\r\u001b[K     |█████                           | 153kB 5.1MB/s eta 0:00:01\r\u001b[K     |█████▎                          | 163kB 5.1MB/s eta 0:00:01\r\u001b[K     |█████▋                          | 174kB 5.1MB/s eta 0:00:01\r\u001b[K     |██████                          | 184kB 5.1MB/s eta 0:00:01\r\u001b[K     |██████▎                         | 194kB 5.1MB/s eta 0:00:01\r\u001b[K     |██████▋                         | 204kB 5.1MB/s eta 0:00:01\r\u001b[K     |███████                         | 215kB 5.1MB/s eta 0:00:01\r\u001b[K     |███████▎                        | 225kB 5.1MB/s eta 0:00:01\r\u001b[K     |███████▋                        | 235kB 5.1MB/s eta 0:00:01\r\u001b[K     |████████                        | 245kB 5.1MB/s eta 0:00:01\r\u001b[K     |████████▎                       | 256kB 5.1MB/s eta 0:00:01\r\u001b[K     |████████▋                       | 266kB 5.1MB/s eta 0:00:01\r\u001b[K     |█████████                       | 276kB 5.1MB/s eta 0:00:01\r\u001b[K     |█████████▎                      | 286kB 5.1MB/s eta 0:00:01\r\u001b[K     |█████████▋                      | 296kB 5.1MB/s eta 0:00:01\r\u001b[K     |██████████                      | 307kB 5.1MB/s eta 0:00:01\r\u001b[K     |██████████▏                     | 317kB 5.1MB/s eta 0:00:01\r\u001b[K     |██████████▌                     | 327kB 5.1MB/s eta 0:00:01\r\u001b[K     |██████████▉                     | 337kB 5.1MB/s eta 0:00:01\r\u001b[K     |███████████▏                    | 348kB 5.1MB/s eta 0:00:01\r\u001b[K     |███████████▌                    | 358kB 5.1MB/s eta 0:00:01\r\u001b[K     |███████████▉                    | 368kB 5.1MB/s eta 0:00:01\r\u001b[K     |████████████▏                   | 378kB 5.1MB/s eta 0:00:01\r\u001b[K     |████████████▌                   | 389kB 5.1MB/s eta 0:00:01\r\u001b[K     |████████████▉                   | 399kB 5.1MB/s eta 0:00:01\r\u001b[K     |█████████████▏                  | 409kB 5.1MB/s eta 0:00:01\r\u001b[K     |█████████████▌                  | 419kB 5.1MB/s eta 0:00:01\r\u001b[K     |█████████████▉                  | 430kB 5.1MB/s eta 0:00:01\r\u001b[K     |██████████████▏                 | 440kB 5.1MB/s eta 0:00:01\r\u001b[K     |██████████████▌                 | 450kB 5.1MB/s eta 0:00:01\r\u001b[K     |██████████████▉                 | 460kB 5.1MB/s eta 0:00:01\r\u001b[K     |███████████████▏                | 471kB 5.1MB/s eta 0:00:01\r\u001b[K     |███████████████▌                | 481kB 5.1MB/s eta 0:00:01\r\u001b[K     |███████████████▉                | 491kB 5.1MB/s eta 0:00:01\r\u001b[K     |████████████████▏               | 501kB 5.1MB/s eta 0:00:01\r\u001b[K     |████████████████▌               | 512kB 5.1MB/s eta 0:00:01\r\u001b[K     |████████████████▉               | 522kB 5.1MB/s eta 0:00:01\r\u001b[K     |█████████████████▏              | 532kB 5.1MB/s eta 0:00:01\r\u001b[K     |█████████████████▌              | 542kB 5.1MB/s eta 0:00:01\r\u001b[K     |█████████████████▉              | 552kB 5.1MB/s eta 0:00:01\r\u001b[K     |██████████████████▏             | 563kB 5.1MB/s eta 0:00:01\r\u001b[K     |██████████████████▌             | 573kB 5.1MB/s eta 0:00:01\r\u001b[K     |██████████████████▉             | 583kB 5.1MB/s eta 0:00:01\r\u001b[K     |███████████████████▏            | 593kB 5.1MB/s eta 0:00:01\r\u001b[K     |███████████████████▌            | 604kB 5.1MB/s eta 0:00:01\r\u001b[K     |███████████████████▉            | 614kB 5.1MB/s eta 0:00:01\r\u001b[K     |████████████████████            | 624kB 5.1MB/s eta 0:00:01\r\u001b[K     |████████████████████▍           | 634kB 5.1MB/s eta 0:00:01\r\u001b[K     |████████████████████▊           | 645kB 5.1MB/s eta 0:00:01\r\u001b[K     |█████████████████████           | 655kB 5.1MB/s eta 0:00:01\r\u001b[K     |█████████████████████▍          | 665kB 5.1MB/s eta 0:00:01\r\u001b[K     |█████████████████████▊          | 675kB 5.1MB/s eta 0:00:01\r\u001b[K     |██████████████████████          | 686kB 5.1MB/s eta 0:00:01\r\u001b[K     |██████████████████████▍         | 696kB 5.1MB/s eta 0:00:01\r\u001b[K     |██████████████████████▊         | 706kB 5.1MB/s eta 0:00:01\r\u001b[K     |███████████████████████         | 716kB 5.1MB/s eta 0:00:01\r\u001b[K     |███████████████████████▍        | 727kB 5.1MB/s eta 0:00:01\r\u001b[K     |███████████████████████▊        | 737kB 5.1MB/s eta 0:00:01\r\u001b[K     |████████████████████████        | 747kB 5.1MB/s eta 0:00:01\r\u001b[K     |████████████████████████▍       | 757kB 5.1MB/s eta 0:00:01\r\u001b[K     |████████████████████████▊       | 768kB 5.1MB/s eta 0:00:01\r\u001b[K     |█████████████████████████       | 778kB 5.1MB/s eta 0:00:01\r\u001b[K     |█████████████████████████▍      | 788kB 5.1MB/s eta 0:00:01\r\u001b[K     |█████████████████████████▊      | 798kB 5.1MB/s eta 0:00:01\r\u001b[K     |██████████████████████████      | 808kB 5.1MB/s eta 0:00:01\r\u001b[K     |██████████████████████████▍     | 819kB 5.1MB/s eta 0:00:01\r\u001b[K     |██████████████████████████▊     | 829kB 5.1MB/s eta 0:00:01\r\u001b[K     |███████████████████████████     | 839kB 5.1MB/s eta 0:00:01\r\u001b[K     |███████████████████████████▍    | 849kB 5.1MB/s eta 0:00:01\r\u001b[K     |███████████████████████████▊    | 860kB 5.1MB/s eta 0:00:01\r\u001b[K     |████████████████████████████    | 870kB 5.1MB/s eta 0:00:01\r\u001b[K     |████████████████████████████▍   | 880kB 5.1MB/s eta 0:00:01\r\u001b[K     |████████████████████████████▊   | 890kB 5.1MB/s eta 0:00:01\r\u001b[K     |█████████████████████████████   | 901kB 5.1MB/s eta 0:00:01\r\u001b[K     |█████████████████████████████▍  | 911kB 5.1MB/s eta 0:00:01\r\u001b[K     |█████████████████████████████▊  | 921kB 5.1MB/s eta 0:00:01\r\u001b[K     |██████████████████████████████  | 931kB 5.1MB/s eta 0:00:01\r\u001b[K     |██████████████████████████████▎ | 942kB 5.1MB/s eta 0:00:01\r\u001b[K     |██████████████████████████████▋ | 952kB 5.1MB/s eta 0:00:01\r\u001b[K     |███████████████████████████████ | 962kB 5.1MB/s eta 0:00:01\r\u001b[K     |███████████████████████████████▎| 972kB 5.1MB/s eta 0:00:01\r\u001b[K     |███████████████████████████████▋| 983kB 5.1MB/s eta 0:00:01\r\u001b[K     |████████████████████████████████| 993kB 5.1MB/s eta 0:00:01\r\u001b[K     |████████████████████████████████| 1.0MB 5.1MB/s \n",
            "\u001b[?25hRequirement already satisfied, skipping upgrade: numpy>=1.6.0 in /usr/local/lib/python3.7/dist-packages (from scikit-fuzzy) (1.19.5)\n",
            "Requirement already satisfied, skipping upgrade: scipy>=0.9.0 in /usr/local/lib/python3.7/dist-packages (from scikit-fuzzy) (1.4.1)\n",
            "Requirement already satisfied, skipping upgrade: networkx>=1.9.0 in /usr/local/lib/python3.7/dist-packages (from scikit-fuzzy) (2.5.1)\n",
            "Requirement already satisfied, skipping upgrade: decorator<5,>=4.3 in /usr/local/lib/python3.7/dist-packages (from networkx>=1.9.0->scikit-fuzzy) (4.4.2)\n",
            "Building wheels for collected packages: scikit-fuzzy\n",
            "  Building wheel for scikit-fuzzy (setup.py) ... \u001b[?25l\u001b[?25hdone\n",
            "  Created wheel for scikit-fuzzy: filename=scikit_fuzzy-0.4.2-cp37-none-any.whl size=894088 sha256=03284ad3e2ef4b346c0e86867271572b22815b786683e8b2b69a2d27a80a4b4a\n",
            "  Stored in directory: /root/.cache/pip/wheels/b9/4e/77/da79b16f64ef1738d95486e2731eea09d73e90a72465096600\n",
            "Successfully built scikit-fuzzy\n",
            "Installing collected packages: scikit-fuzzy\n",
            "Successfully installed scikit-fuzzy-0.4.2\n"
          ],
          "name": "stdout"
        }
      ]
    },
    {
      "cell_type": "code",
      "metadata": {
        "id": "NJnOdSVEASAB"
      },
      "source": [
        "#!pip install -U scikit-fuzzy\n",
        "import numpy as np\n",
        "import skfuzzy as fuzz\n",
        "import matplotlib .pyplot as plt\n",
        "import sys\n"
      ],
      "execution_count": null,
      "outputs": []
    },
    {
      "cell_type": "markdown",
      "metadata": {
        "id": "6mymkflExnZL"
      },
      "source": [
        "\n",
        "\n",
        "\n",
        "# Read CURRENT_TEMP & CURRENT_SOIL_MOIST"
      ]
    },
    {
      "cell_type": "code",
      "metadata": {
        "id": "wrqCYJdIAVAD",
        "colab": {
          "base_uri": "https://localhost:8080/"
        },
        "outputId": "5fe0c98e-b0df-4173-8d64-9dc17d2c5b85"
      },
      "source": [
        "CURRENT_TEMP =20 \n",
        "CURRENT_SOIL_MOIST =50 \n",
        "\n",
        "\n",
        "x_temp = np.arange(0, 50, 0.5)\n",
        "x_soil_moist = np.arange(0, 100, 1)\n",
        "x_irrigation = np.arange(0, 60, 1)\n",
        "\n",
        "\n",
        "print(\"x_temp: \" + str(x_temp))\n",
        "print(\"x_soil_moist: \" + str(x_soil_moist))\n",
        "print(\"x_irrigation\"+ str(x_irrigation))"
      ],
      "execution_count": null,
      "outputs": [
        {
          "output_type": "stream",
          "text": [
            "x_temp: [ 0.   0.5  1.   1.5  2.   2.5  3.   3.5  4.   4.5  5.   5.5  6.   6.5\n",
            "  7.   7.5  8.   8.5  9.   9.5 10.  10.5 11.  11.5 12.  12.5 13.  13.5\n",
            " 14.  14.5 15.  15.5 16.  16.5 17.  17.5 18.  18.5 19.  19.5 20.  20.5\n",
            " 21.  21.5 22.  22.5 23.  23.5 24.  24.5 25.  25.5 26.  26.5 27.  27.5\n",
            " 28.  28.5 29.  29.5 30.  30.5 31.  31.5 32.  32.5 33.  33.5 34.  34.5\n",
            " 35.  35.5 36.  36.5 37.  37.5 38.  38.5 39.  39.5 40.  40.5 41.  41.5\n",
            " 42.  42.5 43.  43.5 44.  44.5 45.  45.5 46.  46.5 47.  47.5 48.  48.5\n",
            " 49.  49.5]\n",
            "x_soil_moist: [ 0  1  2  3  4  5  6  7  8  9 10 11 12 13 14 15 16 17 18 19 20 21 22 23\n",
            " 24 25 26 27 28 29 30 31 32 33 34 35 36 37 38 39 40 41 42 43 44 45 46 47\n",
            " 48 49 50 51 52 53 54 55 56 57 58 59 60 61 62 63 64 65 66 67 68 69 70 71\n",
            " 72 73 74 75 76 77 78 79 80 81 82 83 84 85 86 87 88 89 90 91 92 93 94 95\n",
            " 96 97 98 99]\n",
            "x_irrigation[ 0  1  2  3  4  5  6  7  8  9 10 11 12 13 14 15 16 17 18 19 20 21 22 23\n",
            " 24 25 26 27 28 29 30 31 32 33 34 35 36 37 38 39 40 41 42 43 44 45 46 47\n",
            " 48 49 50 51 52 53 54 55 56 57 58 59]\n"
          ],
          "name": "stdout"
        }
      ]
    },
    {
      "cell_type": "markdown",
      "metadata": {
        "id": "81hvymemx963"
      },
      "source": [
        "# ranges of Linguistic variables\n",
        " "
      ]
    },
    {
      "cell_type": "code",
      "metadata": {
        "id": "4Z2U5JWiAXts",
        "colab": {
          "base_uri": "https://localhost:8080/"
        },
        "outputId": "0d4cffd7-121a-4d1b-9ac2-3b1fe10a629c"
      },
      "source": [
        "\n",
        "temp_cold = fuzz.trapmf(x_temp,   [0, 0, 5 ,12])\n",
        "print(\"temp_cold: \" + str(temp_cold))\n",
        "temp_fresh = fuzz.trimf(x_temp,   [7, 15, 22])\n",
        "print(\"temp_fresh: \" + str(temp_fresh))\n",
        "temp_normal = fuzz.trimf(x_temp,   [16, 23, 30])\n",
        "print(\"temp_normal: \" + str(temp_normal))\n",
        "temp_hot = fuzz.trimf(x_temp,   [25 ,31, 38])\n",
        "print(\"temp_hot: \" + str(temp_hot))\n",
        "temp_vHot = fuzz.trapmf(x_temp,  [33 ,41 ,50 ,50])\n",
        "print(\"temp_vHot: \" + str(temp_vHot))\n",
        "\n"
      ],
      "execution_count": null,
      "outputs": [
        {
          "output_type": "stream",
          "text": [
            "temp_cold: [1.         1.         1.         1.         1.         1.\n",
            " 1.         1.         1.         1.         1.         0.92857143\n",
            " 0.85714286 0.78571429 0.71428571 0.64285714 0.57142857 0.5\n",
            " 0.42857143 0.35714286 0.28571429 0.21428571 0.14285714 0.07142857\n",
            " 0.         0.         0.         0.         0.         0.\n",
            " 0.         0.         0.         0.         0.         0.\n",
            " 0.         0.         0.         0.         0.         0.\n",
            " 0.         0.         0.         0.         0.         0.\n",
            " 0.         0.         0.         0.         0.         0.\n",
            " 0.         0.         0.         0.         0.         0.\n",
            " 0.         0.         0.         0.         0.         0.\n",
            " 0.         0.         0.         0.         0.         0.\n",
            " 0.         0.         0.         0.         0.         0.\n",
            " 0.         0.         0.         0.         0.         0.\n",
            " 0.         0.         0.         0.         0.         0.\n",
            " 0.         0.         0.         0.         0.         0.\n",
            " 0.         0.         0.         0.        ]\n",
            "temp_fresh: [0.         0.         0.         0.         0.         0.\n",
            " 0.         0.         0.         0.         0.         0.\n",
            " 0.         0.         0.         0.0625     0.125      0.1875\n",
            " 0.25       0.3125     0.375      0.4375     0.5        0.5625\n",
            " 0.625      0.6875     0.75       0.8125     0.875      0.9375\n",
            " 1.         0.92857143 0.85714286 0.78571429 0.71428571 0.64285714\n",
            " 0.57142857 0.5        0.42857143 0.35714286 0.28571429 0.21428571\n",
            " 0.14285714 0.07142857 0.         0.         0.         0.\n",
            " 0.         0.         0.         0.         0.         0.\n",
            " 0.         0.         0.         0.         0.         0.\n",
            " 0.         0.         0.         0.         0.         0.\n",
            " 0.         0.         0.         0.         0.         0.\n",
            " 0.         0.         0.         0.         0.         0.\n",
            " 0.         0.         0.         0.         0.         0.\n",
            " 0.         0.         0.         0.         0.         0.\n",
            " 0.         0.         0.         0.         0.         0.\n",
            " 0.         0.         0.         0.        ]\n",
            "temp_normal: [0.         0.         0.         0.         0.         0.\n",
            " 0.         0.         0.         0.         0.         0.\n",
            " 0.         0.         0.         0.         0.         0.\n",
            " 0.         0.         0.         0.         0.         0.\n",
            " 0.         0.         0.         0.         0.         0.\n",
            " 0.         0.         0.         0.07142857 0.14285714 0.21428571\n",
            " 0.28571429 0.35714286 0.42857143 0.5        0.57142857 0.64285714\n",
            " 0.71428571 0.78571429 0.85714286 0.92857143 1.         0.92857143\n",
            " 0.85714286 0.78571429 0.71428571 0.64285714 0.57142857 0.5\n",
            " 0.42857143 0.35714286 0.28571429 0.21428571 0.14285714 0.07142857\n",
            " 0.         0.         0.         0.         0.         0.\n",
            " 0.         0.         0.         0.         0.         0.\n",
            " 0.         0.         0.         0.         0.         0.\n",
            " 0.         0.         0.         0.         0.         0.\n",
            " 0.         0.         0.         0.         0.         0.\n",
            " 0.         0.         0.         0.         0.         0.\n",
            " 0.         0.         0.         0.        ]\n",
            "temp_hot: [0.         0.         0.         0.         0.         0.\n",
            " 0.         0.         0.         0.         0.         0.\n",
            " 0.         0.         0.         0.         0.         0.\n",
            " 0.         0.         0.         0.         0.         0.\n",
            " 0.         0.         0.         0.         0.         0.\n",
            " 0.         0.         0.         0.         0.         0.\n",
            " 0.         0.         0.         0.         0.         0.\n",
            " 0.         0.         0.         0.         0.         0.\n",
            " 0.         0.         0.         0.08333333 0.16666667 0.25\n",
            " 0.33333333 0.41666667 0.5        0.58333333 0.66666667 0.75\n",
            " 0.83333333 0.91666667 1.         0.92857143 0.85714286 0.78571429\n",
            " 0.71428571 0.64285714 0.57142857 0.5        0.42857143 0.35714286\n",
            " 0.28571429 0.21428571 0.14285714 0.07142857 0.         0.\n",
            " 0.         0.         0.         0.         0.         0.\n",
            " 0.         0.         0.         0.         0.         0.\n",
            " 0.         0.         0.         0.         0.         0.\n",
            " 0.         0.         0.         0.        ]\n",
            "temp_vHot: [0.     0.     0.     0.     0.     0.     0.     0.     0.     0.\n",
            " 0.     0.     0.     0.     0.     0.     0.     0.     0.     0.\n",
            " 0.     0.     0.     0.     0.     0.     0.     0.     0.     0.\n",
            " 0.     0.     0.     0.     0.     0.     0.     0.     0.     0.\n",
            " 0.     0.     0.     0.     0.     0.     0.     0.     0.     0.\n",
            " 0.     0.     0.     0.     0.     0.     0.     0.     0.     0.\n",
            " 0.     0.     0.     0.     0.     0.     0.     0.0625 0.125  0.1875\n",
            " 0.25   0.3125 0.375  0.4375 0.5    0.5625 0.625  0.6875 0.75   0.8125\n",
            " 0.875  0.9375 1.     1.     1.     1.     1.     1.     1.     1.\n",
            " 1.     1.     1.     1.     1.     1.     1.     1.     1.     1.    ]\n"
          ],
          "name": "stdout"
        }
      ]
    },
    {
      "cell_type": "code",
      "metadata": {
        "id": "3x7swyj6AfmL",
        "colab": {
          "base_uri": "https://localhost:8080/"
        },
        "outputId": "31a3d3fa-7f59-4699-86b9-d3b76f1ec17b"
      },
      "source": [
        "soil_moist_Dry = fuzz.trapmf(x_soil_moist,  [0 ,0, 20, 40])\n",
        "print(\"soil_moist_Dry: \" + str(soil_moist_Dry))\n",
        "soil_moist_humide = fuzz.trimf(x_soil_moist,   [25 , 45 , 65])\n",
        "print(\"soil_moist_humide: \" + str(soil_moist_humide))\n",
        "soil_moist_wet = fuzz.trapmf(x_soil_moist,  [50 ,75, 100, 100])\n",
        "print(\"soil_moist_wet: \" + str(soil_moist_wet))"
      ],
      "execution_count": null,
      "outputs": [
        {
          "output_type": "stream",
          "text": [
            "soil_moist_Dry: [1.   1.   1.   1.   1.   1.   1.   1.   1.   1.   1.   1.   1.   1.\n",
            " 1.   1.   1.   1.   1.   1.   1.   0.95 0.9  0.85 0.8  0.75 0.7  0.65\n",
            " 0.6  0.55 0.5  0.45 0.4  0.35 0.3  0.25 0.2  0.15 0.1  0.05 0.   0.\n",
            " 0.   0.   0.   0.   0.   0.   0.   0.   0.   0.   0.   0.   0.   0.\n",
            " 0.   0.   0.   0.   0.   0.   0.   0.   0.   0.   0.   0.   0.   0.\n",
            " 0.   0.   0.   0.   0.   0.   0.   0.   0.   0.   0.   0.   0.   0.\n",
            " 0.   0.   0.   0.   0.   0.   0.   0.   0.   0.   0.   0.   0.   0.\n",
            " 0.   0.  ]\n",
            "soil_moist_humide: [0.   0.   0.   0.   0.   0.   0.   0.   0.   0.   0.   0.   0.   0.\n",
            " 0.   0.   0.   0.   0.   0.   0.   0.   0.   0.   0.   0.   0.05 0.1\n",
            " 0.15 0.2  0.25 0.3  0.35 0.4  0.45 0.5  0.55 0.6  0.65 0.7  0.75 0.8\n",
            " 0.85 0.9  0.95 1.   0.95 0.9  0.85 0.8  0.75 0.7  0.65 0.6  0.55 0.5\n",
            " 0.45 0.4  0.35 0.3  0.25 0.2  0.15 0.1  0.05 0.   0.   0.   0.   0.\n",
            " 0.   0.   0.   0.   0.   0.   0.   0.   0.   0.   0.   0.   0.   0.\n",
            " 0.   0.   0.   0.   0.   0.   0.   0.   0.   0.   0.   0.   0.   0.\n",
            " 0.   0.  ]\n",
            "soil_moist_wet: [0.   0.   0.   0.   0.   0.   0.   0.   0.   0.   0.   0.   0.   0.\n",
            " 0.   0.   0.   0.   0.   0.   0.   0.   0.   0.   0.   0.   0.   0.\n",
            " 0.   0.   0.   0.   0.   0.   0.   0.   0.   0.   0.   0.   0.   0.\n",
            " 0.   0.   0.   0.   0.   0.   0.   0.   0.   0.04 0.08 0.12 0.16 0.2\n",
            " 0.24 0.28 0.32 0.36 0.4  0.44 0.48 0.52 0.56 0.6  0.64 0.68 0.72 0.76\n",
            " 0.8  0.84 0.88 0.92 0.96 1.   1.   1.   1.   1.   1.   1.   1.   1.\n",
            " 1.   1.   1.   1.   1.   1.   1.   1.   1.   1.   1.   1.   1.   1.\n",
            " 1.   1.  ]\n"
          ],
          "name": "stdout"
        }
      ]
    },
    {
      "cell_type": "code",
      "metadata": {
        "id": "CXbB5as7Ada5",
        "colab": {
          "base_uri": "https://localhost:8080/"
        },
        "outputId": "6bec607b-7fad-4604-f09b-c55f127b0da4"
      },
      "source": [
        "irrigation_short = fuzz.trapmf(x_irrigation,   [0 , 0 ,10 ,20])\n",
        "print(\"irrigation_short: \" + str(irrigation_short))\n",
        "irrigation_medium = fuzz.trapmf(x_irrigation,  [13, 20, 35, 42])\n",
        "print(\"irrigation_medium: \" + str(irrigation_medium))\n",
        "irrigation_long = fuzz.trapmf(x_irrigation,   [35, 45 ,60, 60])\n",
        "print(\"irrigation_long: \" + str(irrigation_long))"
      ],
      "execution_count": null,
      "outputs": [
        {
          "output_type": "stream",
          "text": [
            "irrigation_short: [1.  1.  1.  1.  1.  1.  1.  1.  1.  1.  1.  0.9 0.8 0.7 0.6 0.5 0.4 0.3\n",
            " 0.2 0.1 0.  0.  0.  0.  0.  0.  0.  0.  0.  0.  0.  0.  0.  0.  0.  0.\n",
            " 0.  0.  0.  0.  0.  0.  0.  0.  0.  0.  0.  0.  0.  0.  0.  0.  0.  0.\n",
            " 0.  0.  0.  0.  0.  0. ]\n",
            "irrigation_medium: [0.         0.         0.         0.         0.         0.\n",
            " 0.         0.         0.         0.         0.         0.\n",
            " 0.         0.         0.14285714 0.28571429 0.42857143 0.57142857\n",
            " 0.71428571 0.85714286 1.         1.         1.         1.\n",
            " 1.         1.         1.         1.         1.         1.\n",
            " 1.         1.         1.         1.         1.         1.\n",
            " 0.85714286 0.71428571 0.57142857 0.42857143 0.28571429 0.14285714\n",
            " 0.         0.         0.         0.         0.         0.\n",
            " 0.         0.         0.         0.         0.         0.\n",
            " 0.         0.         0.         0.         0.         0.        ]\n",
            "irrigation_long: [0.  0.  0.  0.  0.  0.  0.  0.  0.  0.  0.  0.  0.  0.  0.  0.  0.  0.\n",
            " 0.  0.  0.  0.  0.  0.  0.  0.  0.  0.  0.  0.  0.  0.  0.  0.  0.  0.\n",
            " 0.1 0.2 0.3 0.4 0.5 0.6 0.7 0.8 0.9 1.  1.  1.  1.  1.  1.  1.  1.  1.\n",
            " 1.  1.  1.  1.  1.  1. ]\n"
          ],
          "name": "stdout"
        }
      ]
    },
    {
      "cell_type": "markdown",
      "metadata": {
        "id": "aU2s_iTJyPH7"
      },
      "source": [
        "# plots of membership functions"
      ]
    },
    {
      "cell_type": "code",
      "metadata": {
        "id": "OO_jc8XFAj5P",
        "colab": {
          "base_uri": "https://localhost:8080/",
          "height": 313
        },
        "outputId": "82783c9a-eaef-424a-f1c2-3429223ae4c7"
      },
      "source": [
        "\n",
        "######################visualization of the membership value##############################################\n",
        "\n",
        "fig, ax = plt.subplots()\n",
        "ax.set_title('Temperature')\n",
        "ax.set_xlabel('Temperature')\n",
        "ax.plot(x_temp, temp_cold,linewidth=1.5, label='cold')\n",
        "ax.plot(x_temp, temp_fresh,linewidth=1.5, label='fresh')\n",
        "ax.plot(x_temp, temp_normal,linewidth=1.5, label='normal')\n",
        "ax.plot(x_temp, temp_hot,linewidth=1.5, label='hot')\n",
        "ax.plot(x_temp, temp_vHot,linewidth=1.5, label='vHot')\n",
        "ax.legend()\n",
        "plt.axis([0, 50, 0, 1])\n",
        "#plt.show()\n"
      ],
      "execution_count": null,
      "outputs": [
        {
          "output_type": "execute_result",
          "data": {
            "text/plain": [
              "(0.0, 50.0, 0.0, 1.0)"
            ]
          },
          "metadata": {
            "tags": []
          },
          "execution_count": 7
        },
        {
          "output_type": "display_data",
          "data": {
            "image/png": "[encoded data removed]",
            "text/plain": [
              "<Figure size 432x288 with 1 Axes>"
            ]
          },
          "metadata": {
            "tags": [],
            "needs_background": "light"
          }
        }
      ]
    },
    {
      "cell_type": "code",
      "metadata": {
        "id": "a-_81T9PAl68",
        "colab": {
          "base_uri": "https://localhost:8080/",
          "height": 313
        },
        "outputId": "19ad2258-15c0-4414-cc2f-ae781e995f40"
      },
      "source": [
        "\n",
        "fig, ax = plt.subplots()\n",
        "ax.set_title('Soil Moist')\n",
        "ax.set_xlabel('Soil Moist')\n",
        "ax.plot(x_soil_moist, soil_moist_Dry, linewidth=1.5, label='Dry')\n",
        "ax.plot(x_soil_moist, soil_moist_humide, linewidth=1.5, label='humide')\n",
        "ax.plot(x_soil_moist, soil_moist_wet, linewidth=1.5, label='wet')\n",
        "ax.legend()\n",
        "plt.axis([0, 100, 0, 1])\n",
        "#plt.show()"
      ],
      "execution_count": null,
      "outputs": [
        {
          "output_type": "execute_result",
          "data": {
            "text/plain": [
              "(0.0, 100.0, 0.0, 1.0)"
            ]
          },
          "metadata": {
            "tags": []
          },
          "execution_count": 8
        },
        {
          "output_type": "display_data",
          "data": {
            "image/png": "[encoded data removed]",
            "text/plain": [
              "<Figure size 432x288 with 1 Axes>"
            ]
          },
          "metadata": {
            "tags": [],
            "needs_background": "light"
          }
        }
      ]
    },
    {
      "cell_type": "code",
      "metadata": {
        "id": "i8RztkmmAn4B",
        "colab": {
          "base_uri": "https://localhost:8080/",
          "height": 313
        },
        "outputId": "81e40775-07ba-4073-f9b0-4a1fcb926cc9"
      },
      "source": [
        "fig, ax = plt.subplots()\n",
        "ax.set_title('Irrigation')\n",
        "ax.set_xlabel('Irrigation')\n",
        "ax.plot(x_irrigation, irrigation_short, linewidth=1.5, label='short')\n",
        "ax.plot(x_irrigation, irrigation_medium, linewidth=1.5, label='medium')\n",
        "ax.plot(x_irrigation, irrigation_long, linewidth=1.5, label='long')\n",
        "ax.legend()\n",
        "plt.axis([0, 60, 0, 1])\n",
        "#plt.show()\n"
      ],
      "execution_count": null,
      "outputs": [
        {
          "output_type": "execute_result",
          "data": {
            "text/plain": [
              "(0.0, 60.0, 0.0, 1.0)"
            ]
          },
          "metadata": {
            "tags": []
          },
          "execution_count": 9
        },
        {
          "output_type": "display_data",
          "data": {
            "image/png": "[encoded data removed]",
            "text/plain": [
              "<Figure size 432x288 with 1 Axes>"
            ]
          },
          "metadata": {
            "tags": [],
            "needs_background": "light"
          }
        }
      ]
    },
    {
      "cell_type": "markdown",
      "metadata": {
        "id": "553ZcWOxyaci"
      },
      "source": [
        "# Fuzzification"
      ]
    },
    {
      "cell_type": "code",
      "metadata": {
        "id": "vrEMy0UdAr1p",
        "colab": {
          "base_uri": "https://localhost:8080/"
        },
        "outputId": "2acadfd0-4e43-42f8-dea6-d8c10f1f5c21"
      },
      "source": [
        "#########################################activation function for those value####################################################\n",
        "tempCold = fuzz.interp_membership(x_temp, temp_cold, CURRENT_TEMP)\n",
        "print(\"tempCold: \" + str(tempCold))\n",
        "tempFresh = fuzz.interp_membership(x_temp, temp_fresh, CURRENT_TEMP)\n",
        "print(\"tempFresh: \" + str(tempFresh))\n",
        "tempNormal = fuzz.interp_membership(x_temp, temp_normal, CURRENT_TEMP)\n",
        "print(\"tempNormal: \" + str(tempNormal))\n",
        "tempHot = fuzz.interp_membership(x_temp, temp_hot, CURRENT_TEMP)\n",
        "print(\"tempHot: \" + str(tempHot))\n",
        "tempVeryHot = fuzz.interp_membership(x_temp, temp_vHot, CURRENT_TEMP)\n",
        "print(\"tempVeryHot: \" + str(tempVeryHot))"
      ],
      "execution_count": null,
      "outputs": [
        {
          "output_type": "stream",
          "text": [
            "tempCold: 0.0\n",
            "tempFresh: 0.2857142857142857\n",
            "tempNormal: 0.5714285714285714\n",
            "tempHot: 0.0\n",
            "tempVeryHot: 0.0\n"
          ],
          "name": "stdout"
        }
      ]
    },
    {
      "cell_type": "code",
      "metadata": {
        "id": "fUsHNp2hAuHV",
        "colab": {
          "base_uri": "https://localhost:8080/"
        },
        "outputId": "e4b9b842-0c24-4edb-c422-c44496149d3e"
      },
      "source": [
        "\n",
        "soilMoistDry = fuzz.interp_membership(x_soil_moist, soil_moist_Dry, CURRENT_SOIL_MOIST)\n",
        "print(\"soilMoistDry: \" + str(soilMoistDry))\n",
        "soilMoistHumide = fuzz.interp_membership(x_soil_moist, soil_moist_humide, CURRENT_SOIL_MOIST)\n",
        "print(\"soilMoistHumide: \" + str(soilMoistHumide))\n",
        "soilMoistWet = fuzz.interp_membership(x_soil_moist, soil_moist_wet, CURRENT_SOIL_MOIST)\n",
        "print(\"soilMoistWet: \" + str(soilMoistWet))\n",
        "\n",
        "results = dict()"
      ],
      "execution_count": null,
      "outputs": [
        {
          "output_type": "stream",
          "text": [
            "soilMoistDry: 0.0\n",
            "soilMoistHumide: 0.75\n",
            "soilMoistWet: 0.0\n"
          ],
          "name": "stdout"
        }
      ]
    },
    {
      "cell_type": "markdown",
      "metadata": {
        "id": "SCPbfUrFyl1y"
      },
      "source": [
        "# Rules using Min Max algorithm"
      ]
    },
    {
      "cell_type": "code",
      "metadata": {
        "id": "Zj4RWEa5AzxD",
        "colab": {
          "base_uri": "https://localhost:8080/"
        },
        "outputId": "dff9f20d-d4a5-4e56-e9d8-dde4161c5e84"
      },
      "source": [
        "\n",
        "Rule_1_long =np.fmin(tempCold, soilMoistDry) \n",
        "print('Rule_1_long' ,Rule_1_long)\n",
        "Rule_2_long =np.fmin(tempFresh, soilMoistDry) \n",
        "print('Rule_2_long' ,Rule_2_long)\n",
        "Rule_3_long =np.fmin(tempNormal, soilMoistDry) \n",
        "print('Rule_3_long' ,Rule_3_long)\n",
        "Rule_4_long =np.fmin(tempHot, soilMoistDry) \n",
        "print('Rule_4_long' ,Rule_4_long)\n",
        "Rule_5_long =np.fmin(tempVeryHot, soilMoistWet)\n",
        "print('Rule_5_long' ,Rule_5_long)"
      ],
      "execution_count": null,
      "outputs": [
        {
          "output_type": "stream",
          "text": [
            "Rule_1_long 0.0\n",
            "Rule_2_long 0.0\n",
            "Rule_3_long 0.0\n",
            "Rule_4_long 0.0\n",
            "Rule_5_long 0.0\n"
          ],
          "name": "stdout"
        }
      ]
    },
    {
      "cell_type": "code",
      "metadata": {
        "id": "_sQF_yhCA2U7",
        "colab": {
          "base_uri": "https://localhost:8080/"
        },
        "outputId": "0cadcb7e-7d8b-4cdb-b22f-351753db8766"
      },
      "source": [
        "\n",
        "Rule_1_short =np.fmin(tempCold, soilMoistHumide) \n",
        "print('Rule_1_short' ,Rule_1_short)\n",
        "Rule_2_short =np.fmin(tempCold, soilMoistWet) \n",
        "print('Rule_2_short' ,Rule_2_short)\n",
        "Rule_3_short =np.fmin(tempFresh, soilMoistWet)\n",
        "print('Rule_3_short' ,Rule_3_short)\n",
        "Rule_4_short =np.fmin(tempNormal, soilMoistWet) \n",
        "print('Rule_4_short' ,Rule_4_short)\n",
        "Rule_5_short =np.fmin(tempHot, soilMoistWet) \n",
        "print('Rule_5_short' ,Rule_5_short)\n",
        "Rule_6_short =np.fmin(tempVeryHot, soilMoistDry)\n",
        "print('Rule_6_short' ,Rule_6_short)"
      ],
      "execution_count": null,
      "outputs": [
        {
          "output_type": "stream",
          "text": [
            "Rule_1_short 0.0\n",
            "Rule_2_short 0.0\n",
            "Rule_3_short 0.0\n",
            "Rule_4_short 0.0\n",
            "Rule_5_short 0.0\n",
            "Rule_6_short 0.0\n"
          ],
          "name": "stdout"
        }
      ]
    },
    {
      "cell_type": "code",
      "metadata": {
        "id": "7YoPlirqA95n",
        "colab": {
          "base_uri": "https://localhost:8080/"
        },
        "outputId": "9fabc2a6-aad4-4b04-c09a-3e215c648125"
      },
      "source": [
        "\n",
        "Rule_1_medium =np.fmin(tempFresh, soilMoistHumide) \n",
        "print('Rule_1_medium' ,Rule_1_medium)\n",
        "Rule_2_medium =np.fmin(tempNormal,soilMoistHumide) \n",
        "print('Rule_2_medium' ,Rule_2_medium)\n",
        "Rule_3_medium =np.fmin(tempHot, soilMoistHumide) \n",
        "print('Rule_3_medium' ,Rule_3_medium)\n",
        "Rule_4_medium =np.fmin(tempVeryHot, soilMoistHumide) \n",
        "print('Rule_4_medium' ,Rule_4_medium)"
      ],
      "execution_count": null,
      "outputs": [
        {
          "output_type": "stream",
          "text": [
            "Rule_1_medium 0.2857142857142857\n",
            "Rule_2_medium 0.5714285714285714\n",
            "Rule_3_medium 0.0\n",
            "Rule_4_medium 0.0\n"
          ],
          "name": "stdout"
        }
      ]
    },
    {
      "cell_type": "markdown",
      "metadata": {
        "id": "n3DQKfp_RxbN"
      },
      "source": [
        "# Formula to calculate centroid\n"
      ]
    },
    {
      "cell_type": "code",
      "metadata": {
        "id": "QJFw3WEDQKxk"
      },
      "source": [
        "def centeroid_tria(x1,x2,x3):\n",
        "\n",
        "  x = round((x1 + x2 + x3) / 3, 2)\n",
        "  return x"
      ],
      "execution_count": null,
      "outputs": []
    },
    {
      "cell_type": "code",
      "metadata": {
        "id": "9qeIlq6RPmw3"
      },
      "source": [
        "\n",
        "def centeroid_rect(x1 ,x2 ):\n",
        "  center = (x1+x2)/2\n",
        "  return center\n",
        "\n"
      ],
      "execution_count": null,
      "outputs": []
    },
    {
      "cell_type": "code",
      "metadata": {
        "colab": {
          "base_uri": "https://localhost:8080/"
        },
        "id": "sJYU75f0eHDo",
        "outputId": "c3f4a1c7-7873-4d17-90bd-9ae92f9eded9"
      },
      "source": [
        "#####irregation####\n",
        "\n",
        "c_short_tri=centeroid_tria(10,10 ,20)\n",
        "c_short_rect=centeroid_rect(0, 10)\n",
        "area_short_tri=.5*1*(20-10)\n",
        "print('area_short_tri' ,area_short_tri)\n",
        "area_short_rect=1*(10)\n",
        "print('area_short_rect' ,area_short_rect)\n",
        "\n",
        "short=(((c_short_tri*area_short_tri)+(c_short_rect*area_short_rect))//(area_short_tri+area_short_rect))+0\n",
        "print(short)\n",
        "\n",
        "c_medium_tri_1=centeroid_tria(13, 20,20)\n",
        "c_medium_tri_2=centeroid_tria(35,35, 42)\n",
        "c_medium_rect=centeroid_rect(20, 35)\n",
        "\n",
        "area_medium_tri_1=.5*1*(20-13)\n",
        "print('area_medium_tri_1' ,area_medium_tri_1)\n",
        "area_medium_tri_2=.5*1*(42-35)\n",
        "print('area_medium_tri_2' ,area_medium_tri_2)\n",
        "area_medium_rect=1*(35-20)\n",
        "print('area_medium_rect' ,area_medium_rect)\n",
        "\n",
        "medium=(((c_medium_tri_1*area_medium_tri_1) + (c_medium_tri_2*area_medium_tri_2) + (c_medium_rect*area_medium_rect))//(area_medium_tri_1+area_medium_tri_2+area_medium_rect))#+13\n",
        "print(medium)\n",
        "\n",
        "\n",
        "c_long_tri=centeroid_tria(35, 45,45)\n",
        "c_long_rect=centeroid_rect(45 ,60)\n",
        "area_long_tri=.5*1*(45-35)\n",
        "print('area_long_tri' ,area_long_tri)\n",
        "area_long_rect=1*(60-45)\n",
        "print('area_long_rect' ,area_long_rect)\n",
        "\n",
        "loong=(((c_long_tri*area_long_tri)+(c_long_rect*area_long_rect))//(area_long_tri+area_long_rect))#+35\n",
        "print(loong)"
      ],
      "execution_count": null,
      "outputs": [
        {
          "output_type": "stream",
          "text": [
            "area_short_tri 5.0\n",
            "area_short_rect 10\n",
            "7.0\n",
            "area_medium_tri_1 3.5\n",
            "area_medium_tri_2 3.5\n",
            "area_medium_rect 15\n",
            "27.0\n",
            "area_long_tri 5.0\n",
            "area_long_rect 15\n",
            "49.0\n"
          ],
          "name": "stdout"
        }
      ]
    },
    {
      "cell_type": "markdown",
      "metadata": {
        "id": "PyFoTnOOy3A9"
      },
      "source": [
        "# Defuzzification"
      ]
    },
    {
      "cell_type": "code",
      "metadata": {
        "id": "RNvrVk4feJDj"
      },
      "source": [
        "\n",
        "output_XX=((short*Rule_1_short)+(short*Rule_2_short)+(short*Rule_3_short)+(short*Rule_4_short)+(short*Rule_5_short)+(short*Rule_6_short)+(medium*Rule_1_medium)+(medium*Rule_2_medium)+(medium*Rule_3_medium)+(medium*Rule_4_medium)+(loong*Rule_1_long)+(loong*Rule_2_long)+(loong*Rule_3_long)+(loong*Rule_4_long)+(loong*Rule_5_long))\n",
        "output_YY=(Rule_1_short+Rule_2_short+Rule_3_short+Rule_4_short+Rule_5_short+Rule_6_short+Rule_1_medium+Rule_2_medium+Rule_3_medium+Rule_4_medium+Rule_1_long+Rule_2_long+Rule_3_long+Rule_4_long+Rule_5_long)\n",
        "\n",
        "output=output_XX/output_YY\n",
        "\n"
      ],
      "execution_count": null,
      "outputs": []
    },
    {
      "cell_type": "markdown",
      "metadata": {
        "id": "KJSneOIEzB7Z"
      },
      "source": [
        "# Output"
      ]
    },
    {
      "cell_type": "code",
      "metadata": {
        "colab": {
          "base_uri": "https://localhost:8080/"
        },
        "id": "sYbarsuPzA1j",
        "outputId": "54c16058-3ce9-4962-b162-d373be855782"
      },
      "source": [
        "if (output > 0) & (output<= 17):\n",
        "\tprint(\"Short Irrigation\")\n",
        "elif (output > 17) & (output <= 37.5):\n",
        "\tprint (\"Medium Irrigation\")\n",
        "elif (output > 37.5) & (output <= 60):\n",
        "        print(\"Long Irrigation.\")\n",
        "\n",
        "print('Irrigation =' ,output,'%')"
      ],
      "execution_count": null,
      "outputs": [
        {
          "output_type": "stream",
          "text": [
            "Medium Irrigation\n",
            "Irrigation = 26.999999999999996 %\n"
          ],
          "name": "stdout"
        }
      ]
    }
  ]
}